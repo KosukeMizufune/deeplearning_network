{
 "cells": [
  {
   "cell_type": "code",
   "execution_count": 0,
   "metadata": {
    "id": "pAVNJeBAoqSU",
    "colab_type": "code",
    "colab": {}
   },
   "outputs": [],
   "source": [
    "!curl https://colab.chainer.org/install | sh -\n",
    "\n",
    "!apt-get install graphviz\n",
    "!pip install 'chaineripy'\n",
    "!pip install 'chainercv'\n",
    "\n",
    "import sys\n",
    "import os\n",
    "from functools import partial\n",
    "import shutil\n",
    "import json\n",
    "\n",
    "from chainer.links.caffe.caffe_function import CaffeFunction\n",
    "from chainer.serializers import npz\n",
    "from chainer.datasets import cifar, split_dataset_random, TransformDataset\n",
    "from chainer import links as L\n",
    "from chainer import initializers, iterators\n",
    "from chainer.training import extensions\n",
    "\n",
    "from google.colab import drive\n",
    "import numpy as np\n",
    "\n",
    "\n",
    "base_dir = './drive/My Drive/study'\n",
    "sys.path.append(base_dir)\n",
    "drive.mount('/content/drive')\n",
    "\n",
    "from resnet.networks.resnet101 import ResNet101\n",
    "from resnet.networks.resnet152 import ResNet152\n",
    "from execute import run_train\n",
    "from transform import transform\n",
    "\n",
    "# Dataset setup\n",
    "train_val, test = cifar.get_cifar10(scale=255.)\n",
    "train_size      = int(len(train_val) * 0.9)\n",
    "train, valid    = split_dataset_random(train_val, train_size, seed=0)\n",
    "\n",
    "mean = np.mean([x for x, _ in train], axis=(0, 2, 3))\n",
    "std  = np.std([x for x, _ in train], axis=(0, 2, 3))\n",
    "if not os.path.exists(\"/root/.chainer/dataset/pfnet/chainer/models\"):\n",
    "    os.mkdir(\"/root/.chainer/dataset/pfnet/chainer/models\")\n",
    "\n",
    "shutil.copyfile('drive/My Drive/study/resnet/caffe/ResNet-101-model.caffemodel', \n",
    "                \"/root/.chainer/dataset/pfnet/chainer/models/ResNet-101-model.caffemodel\")\n",
    "\n",
    "shutil.copyfile('drive/My Drive/study/resnet/caffe/ResNet-152-model.caffemodel', \n",
    "                \"/root/.chainer/dataset/pfnet/chainer/models/ResNet-152-model.caffemodel\")\n",
    "\n",
    "params = json.load(open(base_dir + '/params.json', \"r\"))"
   ]
  },
  {
   "cell_type": "code",
   "execution_count": 0,
   "metadata": {
    "id": "aHyJHpZfwe8t",
    "colab_type": "code",
    "outputId": "0883fe3a-b1d1-4508-ae13-8a5108f41a83",
    "colab": {
     "base_uri": "https://localhost:8080/",
     "height": 381.0
    }
   },
   "outputs": [
    {
     "name": "stderr",
     "output_type": "stream",
     "text": [
      "Now loading caffemodel (usually it may take few minutes)\n",
      "/usr/local/lib/python3.6/dist-packages/chainer/optimizer.py:524: UserWarning: Hook timing attribute not in ('pre', 'post'), defaulting timing to 'pre'.\n",
      "  warnings.warn(\"Hook timing attribute not in ('pre', 'post'), \"\n"
     ]
    },
    {
     "name": "stdout",
     "output_type": "stream",
     "text": [
      "epoch       main/loss   main/accuracy  val/main/loss  val/main/accuracy  lr          elapsed_time\n",
      "\u001b[J1           0.595922    0.79351        0.303014       0.904658           0.001       4112.27       \n",
      "\u001b[J2           0.243621    0.916452       0.204124       0.931529           0.001       6818.41       \n",
      "\u001b[J3           0.172463    0.941234       0.207162       0.930135           0.001       9073.24       \n",
      "\u001b[J4           0.141214    0.952236       0.115568       0.959992           0.001       11359.5       \n",
      "\u001b[J5           0.114487    0.960976       0.180662       0.946059           0.001       13626.4       \n",
      "\u001b[J6           0.0993866   0.966616       0.0993343      0.968153           0.001       15894.8       \n",
      "\u001b[J7           0.0877992   0.970017       0.111061       0.960987           0.001       18185.5       \n",
      "\u001b[J8           0.0816783   0.972706       0.0987642      0.970342           0.001       20454.3       \n",
      "\u001b[J9           0.0709109   0.975924       0.0948213      0.967158           0.001       22690.5       \n",
      "\u001b[J10          0.0640512   0.978707       0.0893115      0.971935           0.001       24938.1       \n",
      "\u001b[J11          0.0599299   0.979019       0.0906911      0.971537           0.001       27160.5       \n",
      "\u001b[J12          0.0566867   0.980797       0.0785138      0.973726           0.001       29395.8       \n",
      "\u001b[J13          0.0576301   0.980099       0.0843159      0.97492            0.001       31654.7       \n",
      "\u001b[J14          0.0519396   0.982619       0.0914062      0.97074            0.001       33913.1       \n",
      "\u001b[J15          0.0489182   0.983264       0.084514       0.975119           0.001       36160.3       \n"
     ]
    }
   ],
   "source": [
    "transform_train = partial(transform, mean=mean, std=std, output_size=(227, 227), train=True, **params)\n",
    "transform_valid = partial(transform, mean=mean, std=std, output_size=(227, 227), **params)\n",
    "\n",
    "# Network setup and run\n",
    "processed_train = TransformDataset(train, transform_train)\n",
    "processed_valid = TransformDataset(valid, transform_valid)\n",
    "\n",
    "train_iter = iterators.SerialIterator(processed_train, params['batchsize'])\n",
    "valid_iter = iterators.SerialIterator(processed_valid, params['batchsize'], repeat=False, shuffle=False)\n",
    "\n",
    "# Model\n",
    "model = ResNet101(10, init_param=initializers.HeNormal())\n",
    "net = L.Classifier(model)\n",
    "\n",
    "# Evaluator\n",
    "evaluator = extensions.Evaluator(valid_iter, net, device=params['gpu_id'])\n",
    "\n",
    "# RUN!\n",
    "params['finetune_layer'] = [net.predictor.fc.W, \n",
    "                            net.predictor.fc.b]\n",
    "params['freeze_layer'] = ['base/conv1', 'base/res2', 'base/res3']\n",
    "params['result_dir'] = 'drive/My Drive/study/result'\n",
    "params['save_trainer_interval'] = 3\n",
    "\n",
    "run_train(train_iter, net, evaluator **params)"
   ]
  },
  {
   "cell_type": "code",
   "execution_count": 0,
   "metadata": {
    "id": "RKWGOkzAQWQ7",
    "colab_type": "code",
    "outputId": "da572fdf-0efe-432f-8dc2-5aec4c4e3883",
    "colab": {
     "base_uri": "https://localhost:8080/",
     "height": 472.0
    }
   },
   "outputs": [
    {
     "name": "stderr",
     "output_type": "stream",
     "text": [
      "Now loading caffemodel (usually it may take few minutes)\n",
      "/usr/local/lib/python3.6/dist-packages/chainer/optimizer.py:524: UserWarning: Hook timing attribute not in ('pre', 'post'), defaulting timing to 'pre'.\n",
      "  warnings.warn(\"Hook timing attribute not in ('pre', 'post'), \"\n"
     ]
    },
    {
     "name": "stdout",
     "output_type": "stream",
     "text": [
      "epoch       main/loss   main/accuracy  val/main/loss  val/main/accuracy  lr          elapsed_time\n",
      "\u001b[J15          0.0189406   1              0.0852909      0.974721           0.001       36246         \n",
      "\u001b[J16          0.047841    0.98383        0.0850537      0.973129           0.001       38407.3       \n",
      "\u001b[J17          0.0467896   0.983564       0.12861        0.964172           0.001       40553.4       \n",
      "\u001b[J18          0.0427475   0.985953       0.0894746      0.97492            0.001       42698         \n",
      "\u001b[J19          0.0422989   0.985931       0.106532       0.971537           0.001       44862.2       \n",
      "\u001b[J20          0.0399321   0.986931       0.10922        0.969745           0.001       47002.6       \n",
      "\u001b[J21          0.0350948   0.987829       0.0845399      0.973925           0.0001      49145.8       \n",
      "\u001b[J22          0.0303279   0.989554       0.0821464      0.976314           0.0001      51308.7       \n",
      "\u001b[J23          0.0292308   0.989976       0.0794436      0.976513           0.0001      53448.9       \n",
      "\u001b[J24          0.0259319   0.991287       0.0816893      0.976115           0.0001      55588.9       \n",
      "\u001b[J25          0.0271425   0.990161       0.0783113      0.976712           0.0001      57752.9       \n",
      "\u001b[J26          0.0265364   0.991065       0.0766041      0.97711            0.0001      59892.7       \n",
      "\u001b[J27          0.024693    0.99151        0.0765717      0.978503           0.0001      62033.3       \n",
      "\u001b[J28          0.023821    0.992221       0.0784233      0.978105           0.0001      64194.8       \n",
      "\u001b[J29          0.0252174   0.991227       0.0753382      0.979697           0.0001      66336.9       \n",
      "\u001b[J30          0.0265049   0.99151        0.0761816      0.977508           0.0001      68476.9       \n",
      "\u001b[J31          0.0226857   0.992465       0.0752535      0.978702           1e-05       70639         \n",
      "\u001b[J32          0.0246861   0.991465       0.0744947      0.978304           1e-05       72779.6       \n",
      "\u001b[J33          0.0227616   0.991782       0.0760012      0.978901           1e-05       74922.3       \n",
      "\u001b[J34          0.0237022   0.991976       0.0755905      0.977906           1e-05       77085.4       \n"
     ]
    }
   ],
   "source": [
    "transform_train = partial(transform, mean=mean, std=std, output_size=(227, 227), train=True, **params)\n",
    "transform_valid = partial(transform, mean=mean, std=std, output_size=(227, 227), **params)\n",
    "\n",
    "# Network setup and run\n",
    "processed_train = TransformDataset(train, transform_train)\n",
    "processed_valid = TransformDataset(valid, transform_valid)\n",
    "\n",
    "train_iter = iterators.SerialIterator(processed_train, params['batchsize'])\n",
    "valid_iter = iterators.SerialIterator(processed_valid, params['batchsize'], repeat=False, shuffle=False)\n",
    "\n",
    "# Model\n",
    "model = ResNet101(10, init_param=initializers.HeNormal())\n",
    "net = L.Classifier(model)\n",
    "\n",
    "# Evaluator\n",
    "evaluator = extensions.Evaluator(valid_iter, net, device=params['gpu_id'])\n",
    "\n",
    "# RUN!\n",
    "params['finetune_layer'] = [net.predictor.fc.W, \n",
    "                            net.predictor.fc.b]\n",
    "params['freeze_layer'] = ['base/conv1', 'base/res2', 'base/res3']\n",
    "params['result_dir'] = 'drive/My Drive/study/result'\n",
    "params['save_trainer_interval'] = 3\n",
    "params['load_dir'] = 'drive/My Drive/study/result/snapshot_epoch-15'\n",
    "\n",
    "run_train(train_iter, net, evaluator **params)"
   ]
  },
  {
   "cell_type": "code",
   "execution_count": 0,
   "metadata": {
    "id": "Pq3Yr8t1YDvJ",
    "colab_type": "code",
    "colab": {}
   },
   "outputs": [],
   "source": [
    ""
   ]
  }
 ],
 "metadata": {
  "colab": {
   "name": "resnet.ipynb",
   "version": "0.3.2",
   "provenance": [],
   "collapsed_sections": []
  },
  "kernelspec": {
   "name": "python3",
   "display_name": "Python 3"
  },
  "accelerator": "GPU"
 },
 "nbformat": 4,
 "nbformat_minor": 0
}
