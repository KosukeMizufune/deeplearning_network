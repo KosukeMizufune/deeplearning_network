{
  "nbformat": 4,
  "nbformat_minor": 0,
  "metadata": {
    "colab": {
      "name": "SqueezeNet.ipynb",
      "version": "0.3.2",
      "provenance": [],
      "collapsed_sections": []
    },
    "kernelspec": {
      "name": "python3",
      "display_name": "Python 3"
    },
    "accelerator": "GPU"
  },
  "cells": [
    {
      "metadata": {
        "id": "_Kf9q1qAognO",
        "colab_type": "code",
        "colab": {}
      },
      "cell_type": "code",
      "source": [
        "!apt -y -q install cuda-libraries-dev-9-2\n",
        "!pip install -q cupy-cuda92 chainer\n",
        "!apt-get install graphviz\n",
        "!pip install 'chaineripy'\n",
        "!pip install 'chainercv'\n",
        "\n",
        "import sys\n",
        "import os\n",
        "from functools import partial\n",
        "import json\n",
        "\n",
        "\n",
        "from chainer.links.caffe.caffe_function import CaffeFunction\n",
        "from chainer.serializers import npz\n",
        "from chainer.datasets import cifar, split_dataset_random, TransformDataset\n",
        "from chainer import links as L\n",
        "from chainer import initializers\n",
        "from google.colab import drive\n",
        "import numpy as np\n",
        "\n",
        "\n",
        "base_dir = './drive/My Drive/study'\n",
        "sys.path.append(base_dir)\n",
        "drive.mount('/content/drive')\n",
        "\n",
        "caffemodel = CaffeFunction(base_dir + '/squeezenet/caffe/squeezenet_v1.1.caffemodel')\n",
        "npz.save_npz('squeezenet_v1_1.npz', caffemodel, compression=False)\n",
        "caffemodel = CaffeFunction(base_dir + '/squeezenet/caffe/squeezeNet_residual.caffemodel')\n",
        "npz.save_npz('squeeze_resnet.npz', caffemodel, compression=False)\n",
        "\n",
        "from squeezenet.networks.squeezenet import SqueezeNet\n",
        "from squeezenet.networks.squeezenet_bn import SqueezeNetBN\n",
        "from squeezenet.networks.squeeze_resnet import SqueezeResNet\n",
        "from squeezenet.networks.squeeze_pre_resnet import SqueezePreResNet\n",
        "from execute import run_train\n",
        "from transform import transform\n",
        "\n",
        "# Dataset setup\n",
        "train_val, test = cifar.get_cifar10(scale=255.)\n",
        "train_size      = int(len(train_val) * 0.9)\n",
        "train, valid    = split_dataset_random(train_val, train_size, seed=0)\n",
        "\n",
        "mean = np.mean([x for x, _ in train], axis=(0, 2, 3))\n",
        "std  = np.std([x for x, _ in train], axis=(0, 2, 3))\n",
        "\n",
        "params = json.load(open(base_dir + '/params.json', \"r\"))"
      ],
      "execution_count": 0,
      "outputs": []
    },
    {
      "metadata": {
        "id": "f5AzLGU70oXB",
        "colab_type": "code",
        "outputId": "6c569770-1916-46bd-d289-8a3b987c7c4d",
        "colab": {
          "base_uri": "https://localhost:8080/",
          "height": 816
        }
      },
      "cell_type": "code",
      "source": [
        "transform_train = partial(transform, mean=mean, std=std, output_size=(227, 227), x_random_flip=params['random_flip'], random_erase=params['random_erase'], train=True)\n",
        "transform_valid = partial(transform, mean=mean, std=std, output_size=(227, 227))\n",
        "\n",
        "\n",
        "\n",
        "# Network setup and run\n",
        "processed_train = TransformDataset(train, transform_train)\n",
        "processed_valid = TransformDataset(valid, transform_valid)\n",
        "\n",
        "model = SqueezeNet(10, pretrained_model='squeezenet_v1_1.npz', init_param=initializers.HeNormal())\n",
        "net = L.Classifier(model)\n",
        "\n",
        "params['batchsize']     = 128\n",
        "params['changed_layer'] = [net.predictor.conv10.W, net.predictor.conv10.b]\n",
        "params['freeze_layer']  = ['base/conv1', 'base/fire2', 'base/fire3', 'base/fire4', 'base/fire5']\n",
        "params['result_dir']    = 'drive/My Drive/study/result'\n",
        "\n",
        "run_train(processed_train, processed_valid, net, **params)"
      ],
      "execution_count": 14,
      "outputs": [
        {
          "output_type": "stream",
          "text": [
            "/usr/local/lib/python3.6/dist-packages/chainer/optimizer.py:524: UserWarning: Hook timing attribute not in ('pre', 'post'), defaulting timing to 'pre'.\n",
            "  warnings.warn(\"Hook timing attribute not in ('pre', 'post'), \"\n"
          ],
          "name": "stderr"
        },
        {
          "output_type": "stream",
          "text": [
            "epoch       main/loss   main/accuracy  val/main/loss  val/main/accuracy  lr          elapsed_time\n",
            "\u001b[J1           1.8634      0.322754       1.20593        0.5625             0.001       172.701       \n",
            "\u001b[J2           1.17388     0.578125       0.994086       0.650391           0.001       346.452       \n",
            "\u001b[J3           0.939049    0.66729        0.718133       0.754492           0.001       519.857       \n",
            "\u001b[J4           0.805166    0.718861       0.622207       0.788086           0.001       693.688       \n",
            "\u001b[J5           0.716353    0.748976       0.586388       0.799414           0.001       867.062       \n",
            "\u001b[J6           0.663403    0.769487       0.551529       0.806641           0.001       1041.77       \n",
            "\u001b[J7           0.608284    0.78795        0.499005       0.819727           0.001       1214.95       \n",
            "\u001b[J8           0.571525    0.801025       0.467132       0.841602           0.001       1388.49       \n",
            "\u001b[J9           0.541252    0.812145       0.425097       0.855469           0.001       1562.15       \n",
            "\u001b[J10          0.519681    0.818332       0.423344       0.852344           0.001       1735.51       \n",
            "\u001b[J11          0.497525    0.826105       0.410442       0.864844           0.001       1910.34       \n",
            "\u001b[J12          0.481231    0.832443       0.411638       0.85918            0.001       2083.94       \n",
            "\u001b[J13          0.463529    0.839666       0.384126       0.871484           0.001       2258.08       \n",
            "\u001b[J14          0.44744     0.845597       0.365738       0.877148           0.001       2431.81       \n",
            "\u001b[J15          0.429566    0.849276       0.349977       0.880859           0.001       2605.97       \n",
            "\u001b[J16          0.423413    0.853076       0.339416       0.883008           0.001       2780.54       \n",
            "\u001b[J17          0.411581    0.856823       0.340129       0.881836           0.001       2954.72       \n",
            "\u001b[J18          0.401447    0.860707       0.349397       0.878516           0.001       3128.84       \n",
            "\u001b[J19          0.395655    0.861534       0.336088       0.891797           0.001       3302.4        \n",
            "\u001b[J20          0.378545    0.866255       0.325115       0.894336           0.001       3476.46       \n",
            "\u001b[J21          0.336789    0.881321       0.300471       0.900391           0.0001      3651.03       \n",
            "\u001b[J22          0.326618    0.886541       0.297584       0.899023           0.0001      3825.19       \n",
            "\u001b[J23          0.324703    0.887709       0.294255       0.90332            0.0001      3998.65       \n",
            "\u001b[J24          0.319473    0.888006       0.291342       0.904688           0.0001      4172.48       \n",
            "\u001b[J25          0.318958    0.88956        0.291711       0.905469           0.0001      4346.29       \n",
            "\u001b[J26          0.31994     0.888088       0.294779       0.902734           0.0001      4520.35       \n",
            "\u001b[J27          0.316817    0.888539       0.291429       0.904688           0.0001      4695.2        \n",
            "\u001b[J28          0.317752    0.888956       0.289574       0.903906           0.0001      5051.53       \n",
            "\u001b[J29          0.312263    0.890869       0.288602       0.905469           0.0001      5456.32       \n",
            "\u001b[J30          0.312493    0.891159       0.288842       0.904688           0.0001      5864.36       \n",
            "\u001b[J31          0.307024    0.891579       0.287362       0.905273           1e-05       6269.84       \n",
            "\u001b[J32          0.306697    0.89176        0.287036       0.904102           1e-05       6674.38       \n",
            "\u001b[J33          0.308217    0.891513       0.287473       0.905078           1e-05       7074.92       \n",
            "\u001b[J34          0.304301    0.893111       0.287005       0.905078           1e-05       7475.26       \n",
            "\u001b[J35          0.305653    0.892984       0.286597       0.905859           1e-05       7864.8        \n",
            "\u001b[J36          0.306202    0.892933       0.286126       0.905859           1e-05       8259.05       \n",
            "\u001b[J37          0.306834    0.892673       0.28646        0.906055           1e-05       8649.48       \n",
            "\u001b[J38          0.305047    0.893732       0.28682        0.905273           1e-05       9040.16       \n",
            "\u001b[J39          0.307504    0.891871       0.286867       0.905078           1e-05       9429.45       \n",
            "\u001b[J40          0.309202    0.891269       0.286216       0.905664           1e-05       9819.11       \n"
          ],
          "name": "stdout"
        }
      ]
    },
    {
      "metadata": {
        "id": "zxPPit_-GsMh",
        "colab_type": "code",
        "colab": {}
      },
      "cell_type": "code",
      "source": [
        ""
      ],
      "execution_count": 0,
      "outputs": []
    }
  ]
}